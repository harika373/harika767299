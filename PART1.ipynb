{
  "nbformat": 4,
  "nbformat_minor": 0,
  "metadata": {
    "colab": {
      "provenance": [],
      "authorship_tag": "ABX9TyPMA4Lbxd5ko+BTmwe2boeo",
      "include_colab_link": true
    },
    "kernelspec": {
      "name": "python3",
      "display_name": "Python 3"
    },
    "language_info": {
      "name": "python"
    }
  },
  "cells": [
    {
      "cell_type": "markdown",
      "metadata": {
        "id": "view-in-github",
        "colab_type": "text"
      },
      "source": [
        "<a href=\"https://colab.research.google.com/github/harika373/harika767299/blob/main/PART1.ipynb\" target=\"_parent\"><img src=\"https://colab.research.google.com/assets/colab-badge.svg\" alt=\"Open In Colab\"/></a>"
      ]
    },
    {
      "cell_type": "code",
      "execution_count": 2,
      "metadata": {
        "colab": {
          "base_uri": "https://localhost:8080/"
        },
        "id": "SMN1vG2Xx-e9",
        "outputId": "39b516c5-4692-4378-f29f-8da9ac01ab58"
      },
      "outputs": [
        {
          "output_type": "execute_result",
          "data": {
            "text/plain": [
              "array([1, 2, 3])"
            ]
          },
          "metadata": {},
          "execution_count": 2
        }
      ],
      "source": [
        "import numpy as np\n",
        "a=[1,2,3]\n",
        "b=[4,5,6]\n",
        "c=np.array(a)\n",
        "c\n"
      ]
    },
    {
      "cell_type": "code",
      "source": [
        "d=np.array(b)\n",
        "d"
      ],
      "metadata": {
        "colab": {
          "base_uri": "https://localhost:8080/"
        },
        "id": "Y_RaQudczIlj",
        "outputId": "14f9fe63-11ce-46ff-923f-bd0d2e070f79"
      },
      "execution_count": 3,
      "outputs": [
        {
          "output_type": "execute_result",
          "data": {
            "text/plain": [
              "array([4, 5, 6])"
            ]
          },
          "metadata": {},
          "execution_count": 3
        }
      ]
    },
    {
      "cell_type": "code",
      "source": [
        "type(a)\n"
      ],
      "metadata": {
        "colab": {
          "base_uri": "https://localhost:8080/"
        },
        "id": "cIsnFBEvzRKs",
        "outputId": "4dcde8e1-04e0-4463-9365-a89ba8827569"
      },
      "execution_count": 4,
      "outputs": [
        {
          "output_type": "execute_result",
          "data": {
            "text/plain": [
              "list"
            ]
          },
          "metadata": {},
          "execution_count": 4
        }
      ]
    },
    {
      "cell_type": "code",
      "source": [
        "type(b)\n"
      ],
      "metadata": {
        "colab": {
          "base_uri": "https://localhost:8080/"
        },
        "id": "CYKMbOovzaif",
        "outputId": "069c49d6-1bce-4f88-d08c-056225ba78a8"
      },
      "execution_count": 5,
      "outputs": [
        {
          "output_type": "execute_result",
          "data": {
            "text/plain": [
              "list"
            ]
          },
          "metadata": {},
          "execution_count": 5
        }
      ]
    },
    {
      "cell_type": "code",
      "source": [
        "type(c)"
      ],
      "metadata": {
        "colab": {
          "base_uri": "https://localhost:8080/"
        },
        "id": "-E52eeVxzkD_",
        "outputId": "bfed0af3-ea25-42fe-8742-a4c99b667f8d"
      },
      "execution_count": 6,
      "outputs": [
        {
          "output_type": "execute_result",
          "data": {
            "text/plain": [
              "numpy.ndarray"
            ]
          },
          "metadata": {},
          "execution_count": 6
        }
      ]
    },
    {
      "cell_type": "code",
      "source": [
        "print(f'multiplication of {c}and {d}',c*d)\n",
        "print(f'division of {c}and {d}',c/d)\n",
        "print(f'poweroff of {c} and {d}',c**d)"
      ],
      "metadata": {
        "colab": {
          "base_uri": "https://localhost:8080/"
        },
        "id": "L4CqTMCszn0P",
        "outputId": "93dde7b5-442a-4555-f103-70b9fc70ac83"
      },
      "execution_count": 7,
      "outputs": [
        {
          "output_type": "stream",
          "name": "stdout",
          "text": [
            "multiplication of [1 2 3]and [4 5 6] [ 4 10 18]\n",
            "division of [1 2 3]and [4 5 6] [0.25 0.4  0.5 ]\n",
            "poweroff of [1 2 3] and [4 5 6] [  1  32 729]\n"
          ]
        }
      ]
    },
    {
      "cell_type": "code",
      "source": [
        "print(f'Addition of Two:{c}+{d}-',c+d)\n"
      ],
      "metadata": {
        "colab": {
          "base_uri": "https://localhost:8080/"
        },
        "id": "eEPDHzN00qwX",
        "outputId": "b99e4f45-78e0-4936-8e1c-edebb93a51a0"
      },
      "execution_count": 8,
      "outputs": [
        {
          "output_type": "stream",
          "name": "stdout",
          "text": [
            "Addition of Two:[1 2 3]+[4 5 6]- [5 7 9]\n"
          ]
        }
      ]
    },
    {
      "cell_type": "code",
      "source": [
        "s=print(f'sin value of a:',np.sin(a))\n",
        "l1=print(f'logarithm value of a:',np.log(a))\n",
        "l2=print(f'logarithm value of b:',np.log2(b))\n",
        "e=print(f'exponential value of b:',np.exp(b))"
      ],
      "metadata": {
        "colab": {
          "base_uri": "https://localhost:8080/"
        },
        "id": "JGN146Ha09gw",
        "outputId": "5c7baf3c-ab5c-4d33-c464-7fde4471072d"
      },
      "execution_count": 9,
      "outputs": [
        {
          "output_type": "stream",
          "name": "stdout",
          "text": [
            "sin value of a: [0.84147098 0.90929743 0.14112001]\n",
            "logarithm value of a: [0.         0.69314718 1.09861229]\n",
            "logarithm value of b: [2.         2.32192809 2.5849625 ]\n",
            "exponential value of b: [ 54.59815003 148.4131591  403.42879349]\n"
          ]
        }
      ]
    },
    {
      "cell_type": "code",
      "source": [],
      "metadata": {
        "id": "NXNRvaBk2K81"
      },
      "execution_count": null,
      "outputs": []
    }
  ]
}